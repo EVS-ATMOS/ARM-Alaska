{
 "cells": [
  {
   "cell_type": "code",
   "execution_count": 2,
   "metadata": {
    "collapsed": false
   },
   "outputs": [
    {
     "name": "stdout",
     "output_type": "stream",
     "text": [
      "\n",
      "## You are using the Python ARM Radar Toolkit (Py-ART), an open source\n",
      "## library for working with weather radar data.\n",
      "##\n",
      "## If you use this software to prepare a publication, please cite:\n",
      "##\n",
      "##     JJ Helmus and SM Collis, JORS 2016, doi: 10.5334/jors.119 \n"
     ]
    }
   ],
   "source": [
    "import pyart\n",
    "import os\n",
    "import numpy as np\n",
    "from matplotlib import pyplot as plt\n",
    "import netCDF4 \n",
    "import warnings\n",
    "warnings.filterwarnings(\"ignore\")\n",
    "%matplotlib inline"
   ]
  },
  {
   "cell_type": "code",
   "execution_count": 3,
   "metadata": {
    "collapsed": true
   },
   "outputs": [],
   "source": [
    "filename = '/data/radar/oli_kazr/olikazrgeM1.a1.20160620.000001.nc'\n",
    "radar = pyart.io.read(filename)\n",
    "tsi_filename = '/data/radar/oli_kazr/olitsiskycoverM1.b1.20160620.000000.cdf'\n",
    "tsi_dataset = netCDF4.Dataset(tsi_filename)\n",
    "ceil_filename = '/data/radar/oli_kazr/oliceilM1.b1.20160620.000008.nc'\n",
    "ceil_dataset = netCDF4.Dataset(ceil_filename)"
   ]
  },
  {
   "cell_type": "code",
   "execution_count": 4,
   "metadata": {
    "collapsed": true
   },
   "outputs": [],
   "source": [
    "def sky_plot(radar, tsi_dataset, ceil_dataset, ofilename):\n",
    "    ceil_dtimes = netCDF4.num2date(ceil_dataset.variables['time'][:], \n",
    "                               ceil_dataset.variables['time'].units)\n",
    "    tsi_dtimes = netCDF4.num2date(tsi_dataset.variables['time'][:], \n",
    "                               tsi_dataset.variables['time'].units)\n",
    "    my_display = pyart.graph.RadarDisplay(radar)\n",
    "    my_fig = plt.figure(figsize = [15,10])\n",
    "    ax1 = plt.subplot2grid((3,1), (0,0), rowspan = 2)\n",
    "    ax2 = plt.subplot2grid((3,1), (2,0))\n",
    "\n",
    "    my_display.plot_vpt('reflectivity', vmin=-64, \n",
    "                        vmax=20, time_axis_flag=True,\n",
    "                       ax = ax1)\n",
    "\n",
    "    ax1.plot(ceil_dtimes, \n",
    "            ceil_dataset.variables['first_cbh'][:]/1000.0,\n",
    "            label='First cloud boundary')\n",
    "    ax1.plot(ceil_dtimes,\n",
    "            ceil_dataset.variables['second_cbh'][:]/1000.0,\n",
    "            label='Second cloud boundary')\n",
    "    ax1.plot(ceil_dtimes,\n",
    "            ceil_dataset.variables['third_cbh'][:]/1000.0,\n",
    "            label='Third cloud boundary')\n",
    "    ax1.set_ylim([0,15])\n",
    "    ax1.set_xlim([ceil_dtimes.min(), ceil_dtimes.max()])\n",
    "\n",
    "    ax2.plot(tsi_dtimes, \n",
    "             tsi_dataset.variables['percent_opaque'][:],\n",
    "             label='Percentage Opaque' )\n",
    "    ax2.plot(tsi_dtimes, \n",
    "             tsi_dataset.variables['percent_thin'][:],\n",
    "             label='Percentage Thin')\n",
    "\n",
    "\n",
    "    pos1 = ax1.get_position() # get the original position \n",
    "    pos2 = ax2.get_position()\n",
    "    pos3 = [pos2.x0 , pos2.y0 ,  pos1.width , pos2.height ] \n",
    "    ax2.set_position(pos3) # set a new position\n",
    "    ax2.set_ylim([-1,101])\n",
    "    ax2.set_xlim([ceil_dtimes.min(), ceil_dtimes.max()])\n",
    "    ax2.set_ylabel('Percentage cloud cover from TSI')\n",
    "    ax2.legend()\n",
    "    ax1.legend()\n",
    "    plt.savefig(ofilename)\n",
    "    plt.close(my_fig)\n"
   ]
  },
  {
   "cell_type": "code",
   "execution_count": 5,
   "metadata": {
    "collapsed": true
   },
   "outputs": [],
   "source": [
    "sky_plot(radar, tsi_dataset, ceil_dataset, '/Users/scollis/projects/ARM-Alaska/design_documents/uber.png')"
   ]
  },
  {
   "cell_type": "code",
   "execution_count": 6,
   "metadata": {
    "collapsed": true
   },
   "outputs": [],
   "source": [
    "is_sunny_op = tsi_dataset.variables['percent_opaque'][:] < 20.0\n",
    "is_sunny_tn = tsi_dataset.variables['percent_thin'][:] < 20.0\n",
    "is_the_first_cb_masked = np.logical_not(ceil_dataset.variables['third_cbh'][:].mask)\n",
    "\n"
   ]
  },
  {
   "cell_type": "code",
   "execution_count": 14,
   "metadata": {
    "collapsed": false
   },
   "outputs": [],
   "source": [
    "np.logical_and?"
   ]
  },
  {
   "cell_type": "code",
   "execution_count": 12,
   "metadata": {
    "collapsed": false
   },
   "outputs": [
    {
     "data": {
      "text/plain": [
       "array([ True,  True,  True, ...,  True,  True,  True], dtype=bool)"
      ]
     },
     "execution_count": 12,
     "metadata": {},
     "output_type": "execute_result"
    }
   ],
   "source": []
  },
  {
   "cell_type": "code",
   "execution_count": null,
   "metadata": {
    "collapsed": true
   },
   "outputs": [],
   "source": []
  }
 ],
 "metadata": {
  "kernelspec": {
   "display_name": "Python 2",
   "language": "python",
   "name": "python2"
  },
  "language_info": {
   "codemirror_mode": {
    "name": "ipython",
    "version": 2
   },
   "file_extension": ".py",
   "mimetype": "text/x-python",
   "name": "python",
   "nbconvert_exporter": "python",
   "pygments_lexer": "ipython2",
   "version": "2.7.12"
  }
 },
 "nbformat": 4,
 "nbformat_minor": 0
}
