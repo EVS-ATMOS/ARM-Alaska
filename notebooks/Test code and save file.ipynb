{
 "cells": [
  {
   "cell_type": "code",
   "execution_count": 1,
   "metadata": {
    "collapsed": false
   },
   "outputs": [
    {
     "name": "stdout",
     "output_type": "stream",
     "text": [
      "\n",
      "## You are using the Python ARM Radar Toolkit (Py-ART), an open source\n",
      "## library for working with weather radar data.\n",
      "##\n",
      "## If you use this software to prepare a publication, please cite:\n",
      "##\n",
      "##     JJ Helmus and SM Collis, JORS 2016, doi: 10.5334/jors.119 \n"
     ]
    }
   ],
   "source": [
    "import pyart\n",
    "import os\n",
    "import numpy as np\n",
    "from matplotlib import pyplot as plt\n",
    "import netCDF4 \n",
    "import warnings\n",
    "from copy import deepcopy\n",
    "from __future__ import print_function\n",
    "warnings.filterwarnings(\"ignore\")\n",
    "%matplotlib inline"
   ]
  },
  {
   "cell_type": "code",
   "execution_count": 2,
   "metadata": {
    "collapsed": true
   },
   "outputs": [],
   "source": [
    "# set debug flag\n",
    "debug = True"
   ]
  },
  {
   "cell_type": "code",
   "execution_count": 3,
   "metadata": {
    "collapsed": true
   },
   "outputs": [],
   "source": [
    "filename = '/data/radar/oli_kazr/olikazrgeM1.a1.20160620.000001.nc'\n",
    "radar = pyart.io.read(filename)\n",
    "tsi_filename = '/data/radar/oli_kazr/olitsiskycoverM1.b1.20160620.000000.cdf'\n",
    "tsi_dataset = netCDF4.Dataset(tsi_filename)\n",
    "ceil_filename = '/data/radar/oli_kazr/oliceilM1.b1.20160620.000008.nc'\n",
    "ceil_dataset = netCDF4.Dataset(ceil_filename)"
   ]
  },
  {
   "cell_type": "code",
   "execution_count": 40,
   "metadata": {
    "collapsed": true
   },
   "outputs": [],
   "source": [
    "# What is the greatest length of continious ceilometer cloud free?\n",
    "#http://stackoverflow.com/questions/4494404/find-large-number-of-consecutive-values-fulfilling-condition-in-a-numpy-array\n",
    "\n",
    "def contiguous_regions(condition):\n",
    "    \"\"\"Finds contiguous True regions of the boolean array \"condition\". Returns\n",
    "    a 2D array where the first column is the start index of the region and the\n",
    "    second column is the end index.\"\"\"\n",
    "\n",
    "    # Find the indicies of changes in \"condition\"\n",
    "    d = np.diff(condition)\n",
    "    idx, = d.nonzero() \n",
    "\n",
    "    # We need to start things after the change in \"condition\". Therefore, \n",
    "    # we'll shift the index by 1 to the right.\n",
    "    idx += 1\n",
    "\n",
    "    if condition[0]:\n",
    "        # If the start of condition is True prepend a 0\n",
    "        idx = np.r_[0, idx]\n",
    "\n",
    "    if condition[-1]:\n",
    "        # If the end of condition is True, append the length of the array\n",
    "        idx = np.r_[idx, condition.size] # Edit\n",
    "\n",
    "    # Reshape the result into two columns\n",
    "    idx.shape = (-1,2)\n",
    "    return idx   \n",
    "\n",
    "\n",
    "\n",
    "def sky_plot(radar, tsi_dataset, ceil_dataset, ofilename):\n",
    "    ceil_dtimes = netCDF4.num2date(ceil_dataset.variables['time'][:], \n",
    "                               ceil_dataset.variables['time'].units)\n",
    "    tsi_dtimes = netCDF4.num2date(tsi_dataset.variables['time'][:], \n",
    "                               tsi_dataset.variables['time'].units)\n",
    "    my_display = pyart.graph.RadarDisplay(radar)\n",
    "    my_fig = plt.figure(figsize = [15,10])\n",
    "    ax1 = plt.subplot2grid((3,1), (0,0), rowspan = 2)\n",
    "    ax2 = plt.subplot2grid((3,1), (2,0))\n",
    "\n",
    "    my_display.plot_vpt('reflectivity', vmin=-64, \n",
    "                        vmax=20, time_axis_flag=True,\n",
    "                       ax = ax1)\n",
    "\n",
    "    ax1.plot(ceil_dtimes, \n",
    "            ceil_dataset.variables['first_cbh'][:]/1000.0,\n",
    "            label='First cloud boundary')\n",
    "    ax1.plot(ceil_dtimes,\n",
    "            ceil_dataset.variables['second_cbh'][:]/1000.0,\n",
    "            label='Second cloud boundary')\n",
    "    ax1.plot(ceil_dtimes,\n",
    "            ceil_dataset.variables['third_cbh'][:]/1000.0,\n",
    "            label='Third cloud boundary')\n",
    "    ax1.set_ylim([0,15])\n",
    "    ax1.set_xlim([ceil_dtimes.min(), ceil_dtimes.max()])\n",
    "\n",
    "    ax2.plot(tsi_dtimes, \n",
    "             tsi_dataset.variables['percent_opaque'][:],\n",
    "             label='Percentage Opaque' )\n",
    "    ax2.plot(tsi_dtimes, \n",
    "             tsi_dataset.variables['percent_thin'][:],\n",
    "             label='Percentage Thin')\n",
    "\n",
    "\n",
    "    pos1 = ax1.get_position() # get the original position \n",
    "    pos2 = ax2.get_position()\n",
    "    pos3 = [pos2.x0 , pos2.y0 ,  pos1.width , pos2.height ] \n",
    "    ax2.set_position(pos3) # set a new position\n",
    "    ax2.set_ylim([-1,101])\n",
    "    ax2.set_xlim([ceil_dtimes.min(), ceil_dtimes.max()])\n",
    "    ax2.set_ylabel('Percentage cloud cover from TSI')\n",
    "    ax2.legend()\n",
    "    ax1.legend()\n",
    "    plt.savefig(ofilename)\n",
    "    plt.close(my_fig)\n",
    "\n",
    "def time_in_range(start, end, target):\n",
    "    \"\"\"\n",
    "    Return true if target is in the range [start, end]\n",
    "    Parameters\n",
    "    ----------\n",
    "    start: datetime\n",
    "        Start of range to be tested\n",
    "    end: datetime\n",
    "        End of range to be tested\n",
    "    target: datetime\n",
    "        datetime to be tested\n",
    "    Returns\n",
    "    -------\n",
    "    am_i: Boolean\n",
    "        is the target between start and end \n",
    "\n",
    "    \"\"\"\n",
    "    if start <= end:\n",
    "        am_i = start <= target <= end\n",
    "    else:\n",
    "        am_i = start <= x or x <= end\n",
    "    return am_i\n",
    "\n",
    "def find_nearest_index(array,value):\n",
    "    idx = (np.abs(array-value)).argmin()\n",
    "    return idx\n"
   ]
  },
  {
   "cell_type": "code",
   "execution_count": null,
   "metadata": {
    "collapsed": true
   },
   "outputs": [],
   "source": [
    "   "
   ]
  },
  {
   "cell_type": "code",
   "execution_count": 5,
   "metadata": {
    "collapsed": true
   },
   "outputs": [],
   "source": [
    "sky_plot(radar, tsi_dataset, ceil_dataset, '/Users/scollis/projects/ARM-Alaska/design_documents/uber.png')"
   ]
  },
  {
   "cell_type": "code",
   "execution_count": 26,
   "metadata": {
    "collapsed": false
   },
   "outputs": [
    {
     "name": "stdout",
     "output_type": "stream",
     "text": [
      "cloudy_all_day_opaque:  True\n",
      "cloudy_all_day_thin:  True\n",
      "no_clouds_in_ceil_all_day:  False\n",
      "clouds_in_ceil_all_day:  False\n"
     ]
    }
   ],
   "source": [
    "#First some logical tests on the cloud covers\n",
    "\n",
    "opaque_threshold = 20.0\n",
    "thin_threshold = 20.0\n",
    "\n",
    "is_sunny_op = tsi_dataset.variables['percent_opaque'][:] < opaque_threshold\n",
    "is_sunny_tn = tsi_dataset.variables['percent_thin'][:] < thin_threshold\n",
    "is_the_first_cb_masked = ceil_dataset.variables['first_cbh'][:].mask\n",
    "#bulk all day tests\n",
    "\n",
    "cloudy_all_day_opaque = not all(is_sunny_op)\n",
    "cloudy_all_day_thin = not all(is_sunny_op)\n",
    "no_clouds_in_ceil_all_day = all(is_the_first_cb_masked)\n",
    "clouds_in_ceil_all_day = all(np.logical_not(is_the_first_cb_masked))\n",
    "\n",
    "if debug:\n",
    "    print('cloudy_all_day_opaque: ', cloudy_all_day_opaque)\n",
    "    print('cloudy_all_day_thin: ', cloudy_all_day_thin)\n",
    "    print('no_clouds_in_ceil_all_day: ', no_clouds_in_ceil_all_day)\n",
    "    print('clouds_in_ceil_all_day: ', clouds_in_ceil_all_day)\n",
    "\n"
   ]
  },
  {
   "cell_type": "code",
   "execution_count": 34,
   "metadata": {
    "collapsed": true
   },
   "outputs": [],
   "source": [
    "ceil_dtimes = netCDF4.num2date(ceil_dataset.variables['time'][:], \n",
    "                               ceil_dataset.variables['time'].units)\n",
    "radar_dtimes = netCDF4.num2date(radar.time['data'], radar.time['units'])"
   ]
  },
  {
   "cell_type": "code",
   "execution_count": 27,
   "metadata": {
    "collapsed": false
   },
   "outputs": [],
   "source": [
    "ceil_cloud_free_regions = contiguous_regions(is_the_first_cb_masked)\n",
    "ceil_cloud_free_len = \\\n",
    "    np.array([item[1] - item[0] for item in ceil_cloud_free_regions])\n",
    "\n",
    "if ceil_cloud_free_regions[-1][1] == len(ceil_dtimes):\n",
    "    ceil_cloud_free_regions[-1][1] = ceil_cloud_free_regions[-1][1] - 1\n",
    "ceil_cloud_free_regions_time = \\\n",
    "    [[ceil_dtimes[item[0]], \n",
    "      ceil_dtimes[item[1]]] for item in ceil_cloud_free_regions]\n",
    "\n",
    "ceil_cloud_free_len_time = \\\n",
    " np.array([(item[1] - item[0]).total_seconds() for\\\n",
    "           item in ceil_cloud_free_regions_time])"
   ]
  },
  {
   "cell_type": "code",
   "execution_count": 28,
   "metadata": {
    "collapsed": false
   },
   "outputs": [
    {
     "name": "stdout",
     "output_type": "stream",
     "text": [
      "[   0.26666667    1.86666667    0.26666667    0.28333333    0.26666667\n",
      "    0.55          0.81666667    0.55          0.25          0.51666667\n",
      "    0.8           0.55          0.26666667    0.53333333   14.11666667\n",
      "    3.46666667    0.8           7.18333333    0.26666667  127.73333333\n",
      "    7.48333333    0.8           8.8           0.8           0.28333333\n",
      "    0.51666667    1.33333333    0.26666667    0.28333333    0.26666667\n",
      "    0.53333333    1.08333333    1.05          0.51666667    0.78333333\n",
      "    2.93333333    1.6           0.26666667    0.28333333    6.13333333\n",
      "   18.4           0.53333333    0.26666667    0.26666667    0.28333333\n",
      "    0.28333333    0.25          1.86666667   45.58333333   10.95      ]\n",
      "[datetime.datetime(2016, 6, 20, 13, 11, 19), datetime.datetime(2016, 6, 20, 15, 19, 3)]\n"
     ]
    }
   ],
   "source": [
    "print(ceil_cloud_free_len_time/60.0)\n",
    "print(ceil_cloud_free_regions_time[ceil_cloud_free_len_time.argmax()])"
   ]
  },
  {
   "cell_type": "code",
   "execution_count": 29,
   "metadata": {
    "collapsed": false
   },
   "outputs": [
    {
     "data": {
      "text/plain": [
       "19"
      ]
     },
     "execution_count": 29,
     "metadata": {},
     "output_type": "execute_result"
    }
   ],
   "source": [
    "ceil_cloud_free_len_time.argmax()\n"
   ]
  },
  {
   "cell_type": "markdown",
   "metadata": {},
   "source": [
    "Test Save"
   ]
  },
  {
   "cell_type": "code",
   "execution_count": 43,
   "metadata": {
    "collapsed": true
   },
   "outputs": [],
   "source": [
    "#copy the radar volume \n",
    "out_radar = deepcopy(radar)\n",
    "ntimes, ngates = radar.fields['reflectivity']['data'].shape"
   ]
  },
  {
   "cell_type": "code",
   "execution_count": 44,
   "metadata": {
    "collapsed": false
   },
   "outputs": [],
   "source": [
    "#Pop fields\n",
    "fields = out_radar.fields.keys()\n",
    "for field in fields:\n",
    "    del out_radar.fields[field]\n"
   ]
  },
  {
   "cell_type": "code",
   "execution_count": 45,
   "metadata": {
    "collapsed": false
   },
   "outputs": [],
   "source": [
    "# Redimension \n",
    "out_radar.nrays = 1\n",
    "out_radar.time['data'] = out_radar.time['data'][0:1]\n",
    "out_radar.elevation['data'] = out_radar.elevation['data'][0:1]\n",
    "out_radar.azimuth['data'] = out_radar.azimuth['data'][0:1]\n",
    "out_radar.instrument_parameters['prt']['data'] = out_radar.instrument_parameters['prt']['data'][0:1]\n",
    "out_radar.instrument_parameters['nyquist_velocity']['data'] = out_radar.instrument_parameters['nyquist_velocity']['data'][0:1]\n",
    "out_radar.instrument_parameters['pulse_width']['data'] = out_radar.instrument_parameters['pulse_width']['data'][0:1]\n",
    "out_radar.instrument_parameters['n_samples']['data'] = out_radar.instrument_parameters['n_samples']['data'][0:1]\n",
    "out_radar.instrument_parameters['unambiguous_range']['data'] = out_radar.instrument_parameters['unambiguous_range']['data'][0:1]\n"
   ]
  },
  {
   "cell_type": "code",
   "execution_count": 46,
   "metadata": {
    "collapsed": false
   },
   "outputs": [],
   "source": [
    "#metadata cleanup\n",
    "cleanout = ['doi', 'process_version', 'comment', 'dod_version']\n",
    "for item in cleanout:\n",
    "    del out_radar.metadata[item]\n",
    "out_radar.metadata['data_level'] = 'f1'\n",
    "out_radar.metadata['process_version'] = '0.1-daily-clutter'\n",
    "out_radar.metadata['datastream'] = 'olikazrclutter.f1'\n",
    "out_radar.metadata['title'] = 'KaZR2 clutter analysis'\n",
    "out_radar.metadata['input_source'] = filename\n",
    "out_radar.metadata['history'] = 'created by user scollis on machine evs351996 at 2016-08-18 11:13:00, using Jupyter notebook'\n",
    "out_radar.metadata['command_line'] = 'TBD.py'\n",
    "\n",
    "\n",
    "\n"
   ]
  },
  {
   "cell_type": "code",
   "execution_count": 47,
   "metadata": {
    "collapsed": false
   },
   "outputs": [
    {
     "name": "stdout",
     "output_type": "stream",
     "text": [
      "(42577, 607)\n"
     ]
    }
   ],
   "source": [
    "print(radar.fields['snr_copol']['data'].shape)"
   ]
  },
  {
   "cell_type": "code",
   "execution_count": 48,
   "metadata": {
    "collapsed": false
   },
   "outputs": [],
   "source": [
    "\n",
    "sum_sunny = radar.fields['snr_copol']['data'].mean(axis=0)*0.0\n",
    "\n",
    "total_len = 0\n",
    "\n",
    "for i in range(len(ceil_cloud_free_regions_time)):\n",
    "    if ceil_cloud_free_len_time[i]/60.0 > 1:\n",
    "        idx1 = find_nearest_index(radar_dtimes, ceil_cloud_free_regions_time[i][0])\n",
    "        idx2 = find_nearest_index(radar_dtimes, ceil_cloud_free_regions_time[i][1])\n",
    "        total_len = total_len + idx2-idx1\n",
    "        sum_sunny = sum_sunny + radar.fields['snr_copol']['data'][idx1:idx2, :].sum(axis=0)\n",
    "\n",
    "mean_sunny = sum_sunny/total_len"
   ]
  },
  {
   "cell_type": "code",
   "execution_count": 49,
   "metadata": {
    "collapsed": false
   },
   "outputs": [],
   "source": [
    "#build a test ray\n",
    "mean_snr = radar.fields['snr_copol']['data'].mean(axis=0)\n",
    "min_snr = radar.fields['snr_copol']['data'].min(axis=0)"
   ]
  },
  {
   "cell_type": "code",
   "execution_count": 50,
   "metadata": {
    "collapsed": false
   },
   "outputs": [],
   "source": [
    "#build a dictionary\n",
    "my_snr_dictionary = {'data' : np.expand_dims(mean_snr, axis = 0),\n",
    "                     'valid_min' : -100,\n",
    "                     'valid_max' : 100,\n",
    "                     '_FillValue' : pyart.config.get_fillvalue(),\n",
    "                     'long_name' : 'Mean SNR across whole day',\n",
    "                     'standard_name' : 'signal_to_noise_ratio',\n",
    "                     'units' : 'dB'}\n",
    "\n",
    "my_snr_sunny_dictionary = {'data' : np.expand_dims(mean_sunny, axis = 0),\n",
    "                           'valid_min' : -100,\n",
    "                           'valid_max' : 100,\n",
    "                           '_FillValue' : pyart.config.get_fillvalue(),\n",
    "                           'long_name' : 'Mean SNR across sunny periods',\n",
    "                           'standard_name' : 'signal_to_noise_ratio',\n",
    "                           'units' : 'dB'}\n",
    "\n",
    "\n",
    "my_min_snr_dictionary = {'data' : np.expand_dims(min_snr, axis = 0),\n",
    "                     'valid_min' : -100,\n",
    "                     'valid_max' : 100,\n",
    "                     '_FillValue' : pyart.config.get_fillvalue(),\n",
    "                     'long_name' : 'Minimum SNR across sunny periods',\n",
    "                     'standard_name' : 'signal_to_noise_ratio',\n",
    "                     'units' : 'dB'}\n",
    "\n"
   ]
  },
  {
   "cell_type": "code",
   "execution_count": 51,
   "metadata": {
    "collapsed": false
   },
   "outputs": [],
   "source": [
    "out_radar.add_field('daily_mean_snr', my_snr_dictionary)\n",
    "out_radar.add_field('daily_min_snr', my_min_snr_dictionary)\n",
    "out_radar.add_field('daily_mean_sunny_snr', my_snr_sunny_dictionary)"
   ]
  },
  {
   "cell_type": "code",
   "execution_count": 52,
   "metadata": {
    "collapsed": true
   },
   "outputs": [],
   "source": [
    "pyart.io.write_cfradial('/data/radar/oli_kazr/test_mean.nc', out_radar)"
   ]
  },
  {
   "cell_type": "code",
   "execution_count": 41,
   "metadata": {
    "collapsed": false
   },
   "outputs": [
    {
     "data": {
      "text/plain": [
       "{u'calendar': u'gregorian',\n",
       " u'comment': u'times are relative to the volume start time',\n",
       " 'data': array([ 1.408889]),\n",
       " u'long_name': u'Time offset from midnight',\n",
       " u'standard_name': u'time',\n",
       " u'units': u'seconds since 2016-06-20 00:00:00 0:00'}"
      ]
     },
     "execution_count": 41,
     "metadata": {},
     "output_type": "execute_result"
    }
   ],
   "source": [
    "out_radar.pyattime"
   ]
  },
  {
   "cell_type": "code",
   "execution_count": 24,
   "metadata": {
    "collapsed": false
   },
   "outputs": [
    {
     "data": {
      "image/png": "[encoded data removed]",
      "text/plain": [
       "<matplotlib.figure.Figure at 0x1662de110>"
      ]
     },
     "metadata": {},
     "output_type": "display_data"
    }
   ],
   "source": [
    "myfig = plt.figure(figsize = [15,5])\n",
    "myd=pyart.graph.RadarDisplay(out_radar)\n",
    "myd.plot_ray('daily_min_snr',0)"
   ]
  },
  {
   "cell_type": "code",
   "execution_count": 53,
   "metadata": {
    "collapsed": false
   },
   "outputs": [
    {
     "data": {
      "image/png": "[encoded data removed]",
      "text/plain": [
       "<matplotlib.figure.Figure at 0x1198eafd0>"
      ]
     },
     "metadata": {},
     "output_type": "display_data"
    }
   ],
   "source": [
    "myfig = plt.figure(figsize = [15,5])\n",
    "myd=pyart.graph.RadarDisplay(out_radar)\n",
    "myd.plot_ray('daily_mean_sunny_snr',0)"
   ]
  },
  {
   "cell_type": "code",
   "execution_count": 54,
   "metadata": {
    "collapsed": false
   },
   "outputs": [
    {
     "data": {
      "image/png": "[encoded data removed]",
      "text/plain": [
       "<matplotlib.figure.Figure at 0x1671a49d0>"
      ]
     },
     "metadata": {},
     "output_type": "display_data"
    }
   ],
   "source": [
    "myfig = plt.figure(figsize = [15,5])\n",
    "myd=pyart.graph.RadarDisplay(out_radar)\n",
    "myd.plot_ray('daily_mean_snr',0)"
   ]
  },
  {
   "cell_type": "code",
   "execution_count": null,
   "metadata": {
    "collapsed": true
   },
   "outputs": [],
   "source": []
  }
 ],
 "metadata": {
  "kernelspec": {
   "display_name": "Python 2",
   "language": "python",
   "name": "python2"
  },
  "language_info": {
   "codemirror_mode": {
    "name": "ipython",
    "version": 2
   },
   "file_extension": ".py",
   "mimetype": "text/x-python",
   "name": "python",
   "nbconvert_exporter": "python",
   "pygments_lexer": "ipython2",
   "version": "2.7.12"
  }
 },
 "nbformat": 4,
 "nbformat_minor": 0
}
