{
 "cells": [
  {
   "cell_type": "markdown",
   "metadata": {},
   "source": [
    "June 7th 2016.\n",
    "\n",
    "Looking for clear sky cases to investigate the Oli KAZR clutter issue\n",
    "\n",
    "ARM [Total Sky imager video from the day](http://plot.dmf.arm.gov/PLOTS/OLI/olitsiskycover/20160607/olitsiskycoverM1.b1.tsimovie.20160607.mp4 \"Imager\") \n",
    "![Sounding](http://plot.dmf.arm.gov/PLOTS/OLI/olisondewnpn/20160606/olisondewnpnM1.b1.skewt.232800.20160606.png \"Optional title\")\n"
   ]
  },
  {
   "cell_type": "code",
   "execution_count": null,
   "metadata": {
    "collapsed": true
   },
   "outputs": [],
   "source": []
  }
 ],
 "metadata": {
  "kernelspec": {
   "display_name": "Python 2",
   "language": "python",
   "name": "python2"
  },
  "language_info": {
   "codemirror_mode": {
    "name": "ipython",
    "version": 2
   },
   "file_extension": ".py",
   "mimetype": "text/x-python",
   "name": "python",
   "nbconvert_exporter": "python",
   "pygments_lexer": "ipython2",
   "version": "2.7.11"
  }
 },
 "nbformat": 4,
 "nbformat_minor": 0
}
